{
 "cells": [
  {
   "cell_type": "markdown",
   "metadata": {},
   "source": [
    "# Proxied auto voting using requests #\n",
    "\n",
    "The Florida chapter of the American Institute of Architects is holding a 'People's Choice Awards' for buildings in Florida:\n",
    "\n",
    "https://floridapeopleschoice.org/\n",
    "\n",
    "One example building is here:\n",
    "\n",
    "https://floridapeopleschoice.org/building.cfm?idsPCBuilding=263\n",
    "\n",
    "Voting is via a simple 'I like this' checkbox on the page for each building.\n",
    "\n",
    "**Q: can we auto vote for one of these buildings?**\n",
    "\n",
    "Yes! Using Python requests!\n",
    "\n",
    "## Contents ##\n",
    "\n",
    "This notebook demonstrates how to make GET requests to vote in this simple competition via a rotating list of free HTTP proxies. \n",
    "\n",
    "It also incorporates a couple of additional obfuscation techniques - spoofing the user agent headers and only using geoip lookup to ensure votes only come from countries in sensible hours in their timezones. \n",
    "\n",
    "## Homework ##\n",
    "\n",
    "If you're looking to extend this outside just cleaning it up, how about adding Tor support:\n",
    "\n",
    "- all requests, HTTP and HTTPS should be proxied via Tor:\n",
    "\n",
    "https://medium.com/@jasonrigden/using-tor-with-the-python-request-library-79015b2606cb\n",
    "\n",
    "- rather than rotating proxies, change the host's Tor identity between requests using stem or TorCtl:\n",
    "\n",
    "https://stackoverflow.com/questions/9887505/how-to-change-tor-identity-in-python"
   ]
  },
  {
   "cell_type": "markdown",
   "metadata": {},
   "source": [
    "## Import required modules ##"
   ]
  },
  {
   "cell_type": "code",
   "execution_count": 1,
   "metadata": {},
   "outputs": [],
   "source": [
    "import requests\n",
    "from random import randint\n",
    "from time import sleep\n",
    "from lxml.html import fromstring\n",
    "from itertools import cycle\n",
    "from geoip import geolite2\n",
    "# note you will also need to install python-geoip-geolite2 to get the database itself\n",
    "from datetime import datetime\n",
    "import pytz\n",
    "\n",
    "# initialise user agent database without using caching (this may take some time)\n",
    "from fake_useragent import UserAgent\n",
    "ua = UserAgent(cache=False)"
   ]
  },
  {
   "cell_type": "markdown",
   "metadata": {},
   "source": [
    "## Get some proxies ##\n",
    "\n",
    "When voting multiple times like this, one simple way to be detected is via your IP address. It's highly unlikely one IP will vote many times, so it can be easily removed.\n",
    "\n",
    "To counter this - we use multiple proxy servers through which we send our requests. This makes it look like the votes are coming from all over the world.\n",
    "\n",
    "Rather than pay for some high quality proxies, we can retrieve a list of free ones from https://free-proxy-list.net/ \n",
    "\n",
    "The quality of these will vary greatly with most not supporting HTTPS and very few classified as 'elite' i.e. actually being anonymous, but they are fine for the purposes of a demonstration.\n",
    "\n",
    "We can scrape the IP and ports for the proxies using xpaths:"
   ]
  },
  {
   "cell_type": "code",
   "execution_count": 2,
   "metadata": {},
   "outputs": [],
   "source": [
    "# function to retrieve free proxy info from free-proxy-list.net\n",
    "def get_proxies():\n",
    "    # define proxy list url\n",
    "    url = 'https://free-proxy-list.net/'\n",
    "    \n",
    "    # initialise output list\n",
    "    proxies = []\n",
    "    \n",
    "    # retrieve random user agent based on browser stats\n",
    "    headers = {'User-Agent': ua.random}\n",
    "\n",
    "    # scrape the proxy data and parse\n",
    "    response = requests.get(url, headers)\n",
    "    parser = fromstring(response.text)\n",
    "    # locate the proxy data table in the HTML\n",
    "    for i in parser.xpath('//tbody/tr')[:]:\n",
    "    # fields we want: ip:port, https bool, type (transparent, anonymous or elite)\n",
    "    # this is in columns (td) 1/2, 7 and 5 respectively\n",
    "        proxies.append({\"ip\": i.xpath('.//td[1]/text()')[0],\n",
    "                        \"port\": i.xpath('.//td[2]/text()')[0],\n",
    "                        \"ip_port\": \":\".join([i.xpath('.//td[1]/text()')[0], \n",
    "                                        i.xpath('.//td[2]/text()')[0]]),\n",
    "                        \"https\": i.xpath('.//td[7]/text()')[0],\n",
    "                        \"type\": i.xpath('.//td[5]/text()')[0]})\n",
    "    # return the list of proxy dicts\n",
    "    return proxies"
   ]
  },
  {
   "cell_type": "code",
   "execution_count": 3,
   "metadata": {},
   "outputs": [],
   "source": [
    "# retrieve raw proxy data\n",
    "proxies = get_proxies()"
   ]
  },
  {
   "cell_type": "markdown",
   "metadata": {},
   "source": [
    "Voting from all over the world is great, but if we're proxying votes via countries where it is the middle of the night, that will also be easily detected. \n",
    "\n",
    "To counter this, first we enrich our proxy list but identifying which timezone it resides in using a geoip (IP -> Location) lookup:"
   ]
  },
  {
   "cell_type": "code",
   "execution_count": 4,
   "metadata": {},
   "outputs": [],
   "source": [
    "# add timezones to each proxy where possible using geoip\n",
    "for proxy in proxies:\n",
    "    # look up geoip info for each proxy using MaxMind's free Geolite DB\n",
    "    match = geolite2.lookup(proxy['ip'])\n",
    "    # if we are able to identify a timezone for the proxy add it\n",
    "    if match and match.timezone != 'None':\n",
    "        proxy.update({\"tz\": match.timezone})\n",
    "    # otherwise, flag as missing\n",
    "    else:\n",
    "        proxy.update({\"tz\": None})"
   ]
  },
  {
   "cell_type": "code",
   "execution_count": 5,
   "metadata": {},
   "outputs": [
    {
     "data": {
      "text/plain": [
       "{'https': 'no',\n",
       " 'ip': '210.16.84.102',\n",
       " 'ip_port': '210.16.84.102:81',\n",
       " 'port': '81',\n",
       " 'type': 'transparent',\n",
       " 'tz': None}"
      ]
     },
     "execution_count": 5,
     "metadata": {},
     "output_type": "execute_result"
    }
   ],
   "source": [
    "# check the output\n",
    "proxies[0]"
   ]
  },
  {
   "cell_type": "code",
   "execution_count": 6,
   "metadata": {},
   "outputs": [],
   "source": [
    "# create a new proxy list only containing those with a resolved timezone\n",
    "tz_proxies = ([x for x in proxies if x['tz']])"
   ]
  },
  {
   "cell_type": "markdown",
   "metadata": {},
   "source": [
    "## Set proxy anonymity ##\n",
    "\n",
    "Before we start, time to set some important parameters. First, just how anonymous do we want our proxies to be?\n",
    "\n",
    "Not all proxies are created equal - they come in 3 flavours:\n",
    "\n",
    "- **transparent** proxies send the HTTP_X_FORWARDED_FOR and HTTP_VIA headers, meaning they formard on your actual IP address and flag the request as coming from a proxy\n",
    "- **anonymous** proxies still send HTTP_VIA, alerting the recipient you are using a proxy, but do not send your real IP address with requests\n",
    "- **elite** proxies only send the REMOTE_ADDR header with everything else being blank. You appear to be a user in the same country as the proxy\n",
    "\n",
    "Transparent proxies are plentiful but largely useless for anonymity purposes whereas there are very few free elite proxies around so we need to balance the need for privacy against the number of locations we can send from.\n",
    "\n",
    "Only some proxies also support sending requests over HTTPS so this is an additional restriction to consider:"
   ]
  },
  {
   "cell_type": "code",
   "execution_count": 7,
   "metadata": {},
   "outputs": [],
   "source": [
    "# minimum proxy privacy level (transparent, anonymous or elite)\n",
    "min_proxy_level = 'anonymous'\n",
    "\n",
    "# require HTTPS?\n",
    "require_https = False"
   ]
  },
  {
   "cell_type": "code",
   "execution_count": 8,
   "metadata": {},
   "outputs": [
    {
     "name": "stdout",
     "output_type": "stream",
     "text": [
      "Number of available proxies matching requirements = 15\n"
     ]
    }
   ],
   "source": [
    "# process proxies and check numbers\n",
    "if min_proxy_level == 'elite':\n",
    "    priv_proxies = [x for x in tz_proxies if x['type'] == 'elite']\n",
    "elif min_proxy_level == 'anonymous':\n",
    "    priv_proxies = [x for x in tz_proxies if x['type'] == 'elite' \n",
    "                                          or x['type'] == 'anonymous']\n",
    "else:\n",
    "    priv_proxies = tz_proxies\n",
    "    \n",
    "if require_https:\n",
    "    final_proxies = [x for x in priv_proxies if x['https']]\n",
    "else:\n",
    "    final_proxies = priv_proxies\n",
    "   \n",
    "# IMPORTANT\n",
    "# check you are happy with the final number of proxies matching your requirements!\n",
    "print 'Number of available proxies matching requirements = %d' % (len(final_proxies))"
   ]
  },
  {
   "cell_type": "code",
   "execution_count": 9,
   "metadata": {},
   "outputs": [],
   "source": [
    "# set up round robin proxy list (HTTP for now) using cycle\n",
    "proxy_pool = cycle(final_proxies)"
   ]
  },
  {
   "cell_type": "markdown",
   "metadata": {},
   "source": [
    "## Set voting hours and delay time ##"
   ]
  },
  {
   "cell_type": "code",
   "execution_count": 10,
   "metadata": {},
   "outputs": [],
   "source": [
    "# if the current time at the proxy is outside these hours, we'll skip it for realism\n",
    "# here we use 10am to 8pm\n",
    "vote_start = 10\n",
    "vote_end = 20\n",
    "\n",
    "# we wait a random amount of time between votes between 1 and max_delay seconds\n",
    "max_delay = 10"
   ]
  },
  {
   "cell_type": "markdown",
   "metadata": {},
   "source": [
    "## Do some voting! ##\n",
    "\n",
    "The fun part! Here we a simple while loop to make the GET requests we need to trigger a vote.\n",
    "\n",
    "A quick summary of what is going to happen here:\n",
    "- Before each vote we cycle to the next proxy in our list\n",
    "- We check to make sure the local time where the proxy is based falls within the voting hours we have set up\n",
    "- We pick a random User-Agent to use, based on browser popularity stats\n",
    "- We add HTTP (and HTTPS if supported) proxy info to the request\n",
    "- We vote via the proxy using a GET request\n",
    "- If successful, we wait a random interval before moving onto the next proxy and trying again\n",
    "- If not, we wait 30 seconds and try again\n",
    "\n",
    "**Lets go!**"
   ]
  },
  {
   "cell_type": "code",
   "execution_count": 11,
   "metadata": {},
   "outputs": [],
   "source": [
    "# voting is via a GET request being made to here:\n",
    "url = \"https://floridapeopleschoice.org/_vote.cfm?idsPCBuilding=263\""
   ]
  },
  {
   "cell_type": "code",
   "execution_count": null,
   "metadata": {},
   "outputs": [],
   "source": [
    "# set up counters\n",
    "success_count = 0\n",
    "fail_count = 0\n",
    "\n",
    "# loop until we fail to vote 10 times\n",
    "while fail_count < 10:\n",
    "    # set up proxy\n",
    "    proxy = next(proxy_pool)\n",
    "    # check proxy has a timezone, skip if not \n",
    "    # TODO: MOVE THIS TO THE ENRICHMENT STAGE AND DISCARD NONES\n",
    "    if proxy['tz']:\n",
    "        tz = pytz.timezone(proxy['tz'])\n",
    "        proxy_hour = datetime.now(tz).hour\n",
    "        # check the time at the proxy location is within voting hours\n",
    "        if proxy_hour < vote_start or proxy_hour > vote_end:\n",
    "            print 'Skipping proxy %s for now as it is %d in %s' % (proxy['ip'],proxy_hour,tz)\n",
    "            continue\n",
    "    else:\n",
    "        continue\n",
    "    # make voting request and record response\n",
    "    # set up proxy for request\n",
    "    p = {\"http\": proxy['ip_port']}\n",
    "    # if https is supported, add it\n",
    "    if require_https and proxy['https'] == 'yes':\n",
    "        p.update({\"https\": proxy['ip_port']})\n",
    "    # set random user agent based on browser usage stats\n",
    "    headers = {'User-Agent': ua.random}\n",
    "    # make voting request\n",
    "    response = requests.get(url,\n",
    "                            headers,\n",
    "                            proxies=p)\n",
    "    # check for the response status code\n",
    "    if response.status_code == 200:\n",
    "        success_count += 1\n",
    "        # add random delay before next vote\n",
    "        delay = randint(1,max_delay)\n",
    "        print \"Success using %s in %s! That's %d votes so far - waiting %d seconds\" % (proxy['ip_port'],\n",
    "                                                                                       proxy['tz'],\n",
    "                                                                                       success_count,\n",
    "                                                                                       delay)     \n",
    "        sleep(delay)\n",
    "    else:\n",
    "        print \"Failed, that's %d times...waiting 30 seconds\" % (fail_count)\n",
    "        sleep(30)\n",
    "\n",
    "print \"More than 10 fails, stopping...for now\"  "
   ]
  },
  {
   "cell_type": "code",
   "execution_count": null,
   "metadata": {},
   "outputs": [],
   "source": []
  }
 ],
 "metadata": {
  "kernelspec": {
   "display_name": "Python 2",
   "language": "python",
   "name": "python2"
  },
  "language_info": {
   "codemirror_mode": {
    "name": "ipython",
    "version": 2
   },
   "file_extension": ".py",
   "mimetype": "text/x-python",
   "name": "python",
   "nbconvert_exporter": "python",
   "pygments_lexer": "ipython2",
   "version": "2.7.14"
  }
 },
 "nbformat": 4,
 "nbformat_minor": 2
}
